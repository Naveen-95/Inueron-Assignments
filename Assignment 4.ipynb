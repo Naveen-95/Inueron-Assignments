{
 "cells": [
  {
   "cell_type": "code",
   "execution_count": 67,
   "metadata": {},
   "outputs": [
    {
     "name": "stdout",
     "output_type": "stream",
     "text": [
      "Semi perimeter of triangle is 5 with the sides 4, 2, 3.\n",
      "Area of the triangle is: 5.477226\n"
     ]
    }
   ],
   "source": [
    "class triangle:\n",
    "    \n",
    "    def __init__(self,s,a,b,c):\n",
    "        self.semi_perimeter = s\n",
    "        self.side_a = a\n",
    "        self.side_b = b\n",
    "        self.side_c = c\n",
    "    \n",
    "    def area_of_triangle(self):\n",
    "        return \"Area of the triangle is: {:f}\" . format ((self.semi_perimeter*(self.semi_perimeter-self.side_a)\n",
    "                *(self.semi_perimeter-self.side_b)*(self.semi_perimeter-self.side_c)) ** 0.5)\n",
    "    \n",
    "    def __str__(self):\n",
    "        return \"Semi perimeter of triangle is %d with the sides %d, %d, %d.\" % (self.semi_perimeter,\n",
    "                                                                                self.side_a,\n",
    "                                                                                self.side_b,\n",
    "                                                                                self.side_c)\n",
    "    \n",
    "\n",
    "#Test\n",
    "\n",
    "tria = triangle(5,4,2,3)\n",
    "print(tria)\n",
    "print(tria.area_of_triangle())"
   ]
  },
  {
   "cell_type": "code",
   "execution_count": 66,
   "metadata": {},
   "outputs": [
    {
     "data": {
      "text/plain": [
       "['abds', 'asdd', 'dsdsa', 'asdasd']"
      ]
     },
     "execution_count": 66,
     "metadata": {},
     "output_type": "execute_result"
    }
   ],
   "source": [
    "def filter_long_words(lis , n):\n",
    "    long_words = []\n",
    "    for i in lis:\n",
    "        if len(i) > n:\n",
    "            long_words.append(i)\n",
    "        else:\n",
    "            pass\n",
    "    return long_words\n",
    "\n",
    "\n",
    "#Test\n",
    "\n",
    "lis_1 = [\"abds\",\"asdd\",\"dsdsa\",\"ass\",\"dsd\",\"asdasd\"]\n",
    "filter_long_words(lis_1,3)\n",
    "            "
   ]
  },
  {
   "cell_type": "code",
   "execution_count": 73,
   "metadata": {},
   "outputs": [
    {
     "name": "stdout",
     "output_type": "stream",
     "text": [
      "Length of the words: [4, 4, 5, 3, 3, 6]\n"
     ]
    }
   ],
   "source": [
    "def length_words(lis):\n",
    "    word_len = []\n",
    "    for i in lis:\n",
    "        word_len.append(len(i))\n",
    "    return word_len\n",
    "\n",
    "#Test\n",
    "\n",
    "words = [\"abds\",\"asdd\",\"dsdsa\",\"ass\",\"dsd\",\"asdasd\"]\n",
    "print(\"Length of the words:\" , length_words(words))\n"
   ]
  },
  {
   "cell_type": "code",
   "execution_count": 98,
   "metadata": {},
   "outputs": [
    {
     "data": {
      "text/plain": [
       "False"
      ]
     },
     "execution_count": 98,
     "metadata": {},
     "output_type": "execute_result"
    }
   ],
   "source": [
    "def vowels_finder(lis):\n",
    "    vowels = [\"a\",\"e\",\"i\",\"o\",\"u\"]\n",
    "    if type(lis) == str and len(lis) == 1:\n",
    "        if lis in vowels:\n",
    "            return True\n",
    "        else:\n",
    "            return False\n",
    "    else:\n",
    "        print(\"input is either not str or len of str is greater than 1\")\n",
    "\n",
    "#Test\n",
    "vowels_finder(\"s\")\n",
    "    "
   ]
  }
 ],
 "metadata": {
  "kernelspec": {
   "display_name": "Python 3",
   "language": "python",
   "name": "python3"
  },
  "language_info": {
   "codemirror_mode": {
    "name": "ipython",
    "version": 3
   },
   "file_extension": ".py",
   "mimetype": "text/x-python",
   "name": "python",
   "nbconvert_exporter": "python",
   "pygments_lexer": "ipython3",
   "version": "3.7.4"
  }
 },
 "nbformat": 4,
 "nbformat_minor": 2
}
